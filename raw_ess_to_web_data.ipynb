{
 "cells": [
  {
   "cell_type": "markdown",
   "metadata": {},
   "source": [
    "# converting raw data into data needed for website"
   ]
  },
  {
   "cell_type": "code",
   "execution_count": 4,
   "metadata": {},
   "outputs": [],
   "source": [
    "import pandas as pd"
   ]
  },
  {
   "cell_type": "code",
   "execution_count": 5,
   "metadata": {},
   "outputs": [],
   "source": [
    "# Run if do not have ess_subset.csv available\n",
    "# cols_to_load = ['essround', 'agea', 'gndr', 'cntry', 'netusoft', 'netuse', 'happy', 'health', 'aesfdrk', 'stflife', 'nwsppol', 'nwsptot', 'rdpol', 'rdtot', 'tvpol', 'tvtot', 'pray', 'rlgatnd', 'rlgdgr', 'sclact', 'sclmeet', 'inprdsc', 'hincfel', 'hinctnta', 'lrscale', 'imwbcnt', 'freehms', 'ccnthum', 'trstlgl', 'trstplc', 'trstplt']\n",
    "# raw_data = pd.read_csv('all_ess.csv', usecols=cols_to_load)\n",
    "# raw_data.to_csv('ess_subset.csv')"
   ]
  },
  {
   "cell_type": "code",
   "execution_count": 6,
   "metadata": {},
   "outputs": [],
   "source": [
    "raw_data = pd.read_csv('ess_subset.csv')"
   ]
  },
  {
   "cell_type": "code",
   "execution_count": 3,
   "metadata": {},
   "outputs": [
    {
     "data": {
      "text/html": [
       "<div>\n",
       "<style scoped>\n",
       "    .dataframe tbody tr th:only-of-type {\n",
       "        vertical-align: middle;\n",
       "    }\n",
       "\n",
       "    .dataframe tbody tr th {\n",
       "        vertical-align: top;\n",
       "    }\n",
       "\n",
       "    .dataframe thead th {\n",
       "        text-align: right;\n",
       "    }\n",
       "</style>\n",
       "<table border=\"1\" class=\"dataframe\">\n",
       "  <thead>\n",
       "    <tr style=\"text-align: right;\">\n",
       "      <th></th>\n",
       "      <th>essround</th>\n",
       "      <th>cntry</th>\n",
       "      <th>netuse</th>\n",
       "      <th>netusoft</th>\n",
       "      <th>nwsppol</th>\n",
       "      <th>nwsptot</th>\n",
       "      <th>rdpol</th>\n",
       "      <th>rdtot</th>\n",
       "      <th>tvpol</th>\n",
       "      <th>tvtot</th>\n",
       "      <th>...</th>\n",
       "      <th>pray</th>\n",
       "      <th>rlgatnd</th>\n",
       "      <th>rlgdgr</th>\n",
       "      <th>sclact</th>\n",
       "      <th>sclmeet</th>\n",
       "      <th>gndr</th>\n",
       "      <th>agea</th>\n",
       "      <th>hincfel</th>\n",
       "      <th>hinctnta</th>\n",
       "      <th>ccnthum</th>\n",
       "    </tr>\n",
       "  </thead>\n",
       "  <tbody>\n",
       "    <tr>\n",
       "      <th>0</th>\n",
       "      <td>1</td>\n",
       "      <td>AT</td>\n",
       "      <td>5.0</td>\n",
       "      <td>NaN</td>\n",
       "      <td>1.0</td>\n",
       "      <td>1.0</td>\n",
       "      <td>1.0</td>\n",
       "      <td>1.0</td>\n",
       "      <td>1.0</td>\n",
       "      <td>1.0</td>\n",
       "      <td>...</td>\n",
       "      <td>4</td>\n",
       "      <td>6</td>\n",
       "      <td>8</td>\n",
       "      <td>5</td>\n",
       "      <td>5</td>\n",
       "      <td>1</td>\n",
       "      <td>54</td>\n",
       "      <td>1.0</td>\n",
       "      <td>NaN</td>\n",
       "      <td>NaN</td>\n",
       "    </tr>\n",
       "    <tr>\n",
       "      <th>1</th>\n",
       "      <td>1</td>\n",
       "      <td>AT</td>\n",
       "      <td>6.0</td>\n",
       "      <td>NaN</td>\n",
       "      <td>2.0</td>\n",
       "      <td>2.0</td>\n",
       "      <td>1.0</td>\n",
       "      <td>4.0</td>\n",
       "      <td>2.0</td>\n",
       "      <td>3.0</td>\n",
       "      <td>...</td>\n",
       "      <td>7</td>\n",
       "      <td>6</td>\n",
       "      <td>5</td>\n",
       "      <td>5</td>\n",
       "      <td>6</td>\n",
       "      <td>1</td>\n",
       "      <td>50</td>\n",
       "      <td>3.0</td>\n",
       "      <td>NaN</td>\n",
       "      <td>NaN</td>\n",
       "    </tr>\n",
       "    <tr>\n",
       "      <th>2</th>\n",
       "      <td>1</td>\n",
       "      <td>AT</td>\n",
       "      <td>0.0</td>\n",
       "      <td>NaN</td>\n",
       "      <td>66.0</td>\n",
       "      <td>0.0</td>\n",
       "      <td>66.0</td>\n",
       "      <td>0.0</td>\n",
       "      <td>3.0</td>\n",
       "      <td>7.0</td>\n",
       "      <td>...</td>\n",
       "      <td>4</td>\n",
       "      <td>4</td>\n",
       "      <td>7</td>\n",
       "      <td>2</td>\n",
       "      <td>5</td>\n",
       "      <td>2</td>\n",
       "      <td>63</td>\n",
       "      <td>2.0</td>\n",
       "      <td>NaN</td>\n",
       "      <td>NaN</td>\n",
       "    </tr>\n",
       "    <tr>\n",
       "      <th>3</th>\n",
       "      <td>1</td>\n",
       "      <td>AT</td>\n",
       "      <td>4.0</td>\n",
       "      <td>NaN</td>\n",
       "      <td>2.0</td>\n",
       "      <td>2.0</td>\n",
       "      <td>1.0</td>\n",
       "      <td>1.0</td>\n",
       "      <td>1.0</td>\n",
       "      <td>1.0</td>\n",
       "      <td>...</td>\n",
       "      <td>4</td>\n",
       "      <td>4</td>\n",
       "      <td>7</td>\n",
       "      <td>3</td>\n",
       "      <td>5</td>\n",
       "      <td>1</td>\n",
       "      <td>44</td>\n",
       "      <td>1.0</td>\n",
       "      <td>NaN</td>\n",
       "      <td>NaN</td>\n",
       "    </tr>\n",
       "    <tr>\n",
       "      <th>4</th>\n",
       "      <td>1</td>\n",
       "      <td>AT</td>\n",
       "      <td>7.0</td>\n",
       "      <td>NaN</td>\n",
       "      <td>66.0</td>\n",
       "      <td>0.0</td>\n",
       "      <td>1.0</td>\n",
       "      <td>1.0</td>\n",
       "      <td>66.0</td>\n",
       "      <td>0.0</td>\n",
       "      <td>...</td>\n",
       "      <td>2</td>\n",
       "      <td>4</td>\n",
       "      <td>10</td>\n",
       "      <td>3</td>\n",
       "      <td>5</td>\n",
       "      <td>2</td>\n",
       "      <td>41</td>\n",
       "      <td>1.0</td>\n",
       "      <td>NaN</td>\n",
       "      <td>NaN</td>\n",
       "    </tr>\n",
       "  </tbody>\n",
       "</table>\n",
       "<p>5 rows × 31 columns</p>\n",
       "</div>"
      ],
      "text/plain": [
       "   essround cntry  netuse  netusoft  nwsppol  nwsptot  rdpol  rdtot  tvpol  \\\n",
       "0         1    AT     5.0       NaN      1.0      1.0    1.0    1.0    1.0   \n",
       "1         1    AT     6.0       NaN      2.0      2.0    1.0    4.0    2.0   \n",
       "2         1    AT     0.0       NaN     66.0      0.0   66.0    0.0    3.0   \n",
       "3         1    AT     4.0       NaN      2.0      2.0    1.0    1.0    1.0   \n",
       "4         1    AT     7.0       NaN     66.0      0.0    1.0    1.0   66.0   \n",
       "\n",
       "   tvtot  ...  pray  rlgatnd  rlgdgr  sclact  sclmeet  gndr  agea  hincfel  \\\n",
       "0    1.0  ...     4        6       8       5        5     1    54      1.0   \n",
       "1    3.0  ...     7        6       5       5        6     1    50      3.0   \n",
       "2    7.0  ...     4        4       7       2        5     2    63      2.0   \n",
       "3    1.0  ...     4        4       7       3        5     1    44      1.0   \n",
       "4    0.0  ...     2        4      10       3        5     2    41      1.0   \n",
       "\n",
       "   hinctnta  ccnthum  \n",
       "0       NaN      NaN  \n",
       "1       NaN      NaN  \n",
       "2       NaN      NaN  \n",
       "3       NaN      NaN  \n",
       "4       NaN      NaN  \n",
       "\n",
       "[5 rows x 31 columns]"
      ]
     },
     "execution_count": 3,
     "metadata": {},
     "output_type": "execute_result"
    }
   ],
   "source": [
    "import re\n",
    "\n",
    "# filter out vars with many missings (from milestone 1)\n",
    "pattern_region = re.compile(r'^regio.*', flags=re.IGNORECASE)\n",
    "region_columns = list(filter(pattern_region.match, raw_data.columns))\n",
    "region_df = raw_data[region_columns]\n",
    "\n",
    "pattern_parties = re.compile(r'^prtv.*', flags=re.IGNORECASE)\n",
    "party_votes_columns = list(filter(pattern_parties.match, raw_data.columns))\n",
    "parties_df = raw_data[party_votes_columns]\n",
    "\n",
    "other_variables_col = list(filter(lambda col: not(pattern_parties.match(col) or pattern_region.match(col)), raw_data.columns))\n",
    "raw_data_subset = raw_data[other_variables_col]\n",
    "\n",
    "raw_data_subset.head()"
   ]
  },
  {
   "cell_type": "code",
   "execution_count": 4,
   "metadata": {},
   "outputs": [],
   "source": [
    "# assign year of response variable\n",
    "raw_data_subset.loc[:,'essround_yr'] = raw_data_subset['essround']*2+2000"
   ]
  },
  {
   "cell_type": "code",
   "execution_count": 5,
   "metadata": {},
   "outputs": [
    {
     "data": {
      "image/png": "[encoded data removed]",
      "text/plain": [
       "<Figure size 640x480 with 1 Axes>"
      ]
     },
     "metadata": {},
     "output_type": "display_data"
    }
   ],
   "source": [
    "# see age distribution\n",
    "import matplotlib.pyplot as plt\n",
    "age_data = raw_data_subset[raw_data_subset['agea'] != 999]\n",
    "plt.hist(age_data['agea'], bins=10)\n",
    "\n",
    "# assign age group variable\n",
    "bins = [0, 25, 39, 59, float('inf')]\n",
    "labels = ['<25', '25-39', '40-59', '60+']\n",
    "raw_data_subset.loc[:,'age_group'] = pd.cut(raw_data['agea'], bins=bins, labels=labels, right=False)\n",
    "raw_data_subset.loc[:,'age_group'] = raw_data_subset['age_group'].astype('category')"
   ]
  },
  {
   "cell_type": "code",
   "execution_count": 6,
   "metadata": {},
   "outputs": [
    {
     "data": {
      "text/plain": [
       "age_group\n",
       "AGGREGATE    490555\n",
       "40-59        165259\n",
       "60+          162921\n",
       "25-39        103145\n",
       "<25           59230\n",
       "Name: count, dtype: int64"
      ]
     },
     "execution_count": 6,
     "metadata": {},
     "output_type": "execute_result"
    }
   ],
   "source": [
    "# to create 'all' datasets, attach dataset to itself with \n",
    "raw_data_subset_all_ages = raw_data_subset.copy()\n",
    "raw_data_subset_all_ages['age_group'] = \"AGGREGATE\"\n",
    "raw_data_subset = pd.concat([raw_data_subset, raw_data_subset_all_ages])\n",
    "raw_data_subset.age_group.value_counts()"
   ]
  },
  {
   "cell_type": "markdown",
   "metadata": {},
   "source": [
    "# Define Helper Functions\n",
    "#### For converting raw data to data ready to be aggregated"
   ]
  },
  {
   "cell_type": "code",
   "execution_count": 7,
   "metadata": {},
   "outputs": [],
   "source": [
    "# Helper function: prepare_for_aggregation()\n",
    "### removes missing values, ensures increase implies improvement, and 0-1 normalizes ninned variables\n",
    "def prepare_for_aggregation(data, vars, vars_improve_order, vars_ranges):\n",
    "\n",
    "    # ignore missings, organize vars s.t. higher = better, normalize to be 1-6\n",
    "    for var, order, range in zip(vars, vars_improve_order, vars_ranges):\n",
    "        data[var] = data[var].where(data[var] <= range[1], other=float('nan'))\n",
    "        if order == -1:\n",
    "            data[var] *= -1\n",
    "            range = sorted([val*-1 for val in range])\n",
    "        data[var] = ((data[var] - range[0]) / (range[1] - range[0])) * (6-1) + 1\n",
    "    return data"
   ]
  },
  {
   "cell_type": "code",
   "execution_count": 8,
   "metadata": {},
   "outputs": [],
   "source": [
    "def extract_tuple_components(var_tuples):\n",
    "    vars = [tuple[0] for tuple in var_tuples]\n",
    "    vars_improve_order = [tuple[1] for tuple in var_tuples]\n",
    "    vars_ranges = [tuple[2] for tuple in var_tuples]\n",
    "    return vars, vars_improve_order, vars_ranges"
   ]
  },
  {
   "cell_type": "code",
   "execution_count": 9,
   "metadata": {},
   "outputs": [],
   "source": [
    "cc_dict = {\n",
    "    'AL': 'Albania', \n",
    "    'AT': 'Austria', \n",
    "    'BE': 'Belgium', \n",
    "    'BG': 'Bulgaria', \n",
    "    'CH': 'Switzerland', \n",
    "    'CY': 'Cyprus', \n",
    "    'CZ': 'Czechia', \n",
    "    'DE': 'Germany', \n",
    "    'DK': 'Denmark', \n",
    "    'EE': 'Estonia', \n",
    "    'ES': 'Spain', \n",
    "    'FI': 'Finland', \n",
    "    'FR': 'France', \n",
    "    'GB': 'United Kingdom', \n",
    "    'GE': 'Georgia', \n",
    "    'GR': 'Greece', \n",
    "    'HR': 'Croatia', \n",
    "    'HU': 'Hungary', \n",
    "    'IE': 'Ireland', \n",
    "    'IS': 'Iceland', \n",
    "    'IL': 'Israel', \n",
    "    'IT': 'Italy', \n",
    "    'LT': 'Lithuania', \n",
    "    'LU': 'Luxembourg', \n",
    "    'LV': 'Latvia', \n",
    "    'ME': 'Montenegro', \n",
    "    'MK': 'North Macedonia', \n",
    "    'NL': 'Netherlands', \n",
    "    'NO': 'Norway', \n",
    "    'PL': 'Poland', \n",
    "    'PT': 'Portugal',\n",
    "    'RO': 'Romania', \n",
    "    'RS': 'Serbia', \n",
    "    'RU': 'Russian Federation', \n",
    "    'SE': 'Sweden', \n",
    "    'SI': 'Slovenia', \n",
    "    'SK': 'Slovakia', \n",
    "    'TR': 'Turkey', \n",
    "    'UA': 'Ukraine', \n",
    "    'XK': 'Kosovo'\n",
    "}"
   ]
  },
  {
   "cell_type": "markdown",
   "metadata": {},
   "source": [
    "# Define Variable Sets\n",
    "#### May need to alter to create interesting story"
   ]
  },
  {
   "cell_type": "code",
   "execution_count": 10,
   "metadata": {},
   "outputs": [],
   "source": [
    "# tuple structure: (var_name, missing_cutoff, improve_order, range)\n",
    "## missing_cutoff: value above which variable should be considered missing for our purposes\n",
    "## improve_order: 1 if higher is better, -1 if lower is better\n",
    "## range: range variable can take\n",
    "### details accessible via codebook: (https://github.com/com-480-data-visualization/ChartToppers/blob/master/all_variables_codebook.html)\n",
    "var_sets = {}\n",
    "\n",
    "# wellbeing\n",
    "## happy: how happy are you\n",
    "## health: how healthy are you\n",
    "## aesfdrk: how concern about safety after dark\n",
    "## stflife: how satisifed with life\n",
    "var_sets['wellbeing'] = [('happy', 1, [1, 10]), ('health', -1, [1, 5]), ('aesfdrk', -1, [1,4]), ('stflife', 1, [1,10])]\n",
    "\n",
    "# media consumption\n",
    "## newsppol: how much political newspaper reading do you do\n",
    "## newsptot: how much newspaper reading do you do\n",
    "## rdpol: how much political radio listening do you do\n",
    "## rdtot: how much radio listening do you do\n",
    "## tvpol: how much political tv watching do you do\n",
    "## tvtot: how much tv watching do you do\n",
    "var_sets['media'] = [('nwsppol', 1, [0, 7]), ('rdpol', 1, [0,7]), ('tvpol', 1, [0,7])] # tot vars uncorrelated: ('nwsptot', 1, [0, 7]), ('rdtot', 1, [0, 7]), ('tvtot', 1, [0,7])\n",
    "\n",
    "# internet usage\n",
    "## netuse: personal internet use, how often\n",
    "## netuseoft: internet use, how often\n",
    "var_sets['internet'] = [('netuse', 1, [0, 7]), ('netusoft', 1, [1, 5])]\n",
    "\n",
    "# religious activity\n",
    "## pray: how often do you pray\n",
    "## rlgatnd: how often do you attend religious services\n",
    "## rlgdgr: how religious are you\n",
    "var_sets['relig'] = [('pray', -1, [1, 7]), ('rlgatnd', -1, [1, 7]), ('rlgdgr', 1, [0, 10])]\n",
    "\n",
    "# social activity\n",
    "## sclact: how often do you take part in social activities compared to others of the same age\n",
    "## sclmeet: how often do you socially meet with friends, relatives, or colleagues\n",
    "## inprdsc: how many people to discuss intimate and personal matters\n",
    "var_sets['social'] = [('sclact', 1, [1,5]), ('sclmeet', 1, [1,7])] # ('inprdsc', 1, [0,6]) only available 2012 onwards\n",
    "\n",
    "# financial stability\n",
    "## hincfel: feeling about household's income\n",
    "## hinctnta: household's total net income, all sources (deciles)\n",
    "var_sets['finstab'] = [('hincfel', -1, [1,4]), ('hinctnta', 1, [1,10])]\n",
    "\n",
    "# conservatism (low = liberal, high = conservative)\n",
    "## lrscale: placement of left-right scale\n",
    "## freehms: gays and lesbians should live as they wish\n",
    "## ccnthum: climate change caused by natural processes, human activity, or both\n",
    "var_sets['conservatism'] = [('lrscale', 1, [0, 10])] # ('ccnthum', -1, [1,5]) only availabe in most recent 2, ('freehms', 1, [1,5]) weakly corr. with others\n",
    "\n",
    "## imwbcnt: immigrants make country worse or better place to live\n",
    "var_sets['anti_imm'] = [('imwbcnt', -1, [0,10])]\n",
    "\n",
    "# trust\n",
    "## trstlgl: trust in the legal system\n",
    "## trstplc: trust in the police\n",
    "## trstprl: trust in the country's parliament\n",
    "var_sets['trust'] = [('trstlgl', 1, [0, 10]), ('trstplc', 1, [0, 10]), ('trstplt', 1, [0,10])]"
   ]
  },
  {
   "cell_type": "markdown",
   "metadata": {},
   "source": [
    "# Validate Variable Sets"
   ]
  },
  {
   "cell_type": "markdown",
   "metadata": {},
   "source": [
    "### Intra-bucket data availibility"
   ]
  },
  {
   "cell_type": "code",
   "execution_count": 11,
   "metadata": {},
   "outputs": [
    {
     "name": "stdout",
     "output_type": "stream",
     "text": [
      "wellbeing\n",
      "happy [2002, 2004, 2006, 2008, 2010, 2012, 2014, 2016, 2018, 2020]\n",
      "health [2002, 2004, 2006, 2008, 2010, 2012, 2014, 2016, 2018, 2020]\n",
      "aesfdrk [2002, 2004, 2006, 2008, 2010, 2012, 2014, 2016, 2018, 2020]\n",
      "stflife [2002, 2004, 2006, 2008, 2010, 2012, 2014, 2016, 2018, 2020]\n",
      "\n",
      "\n",
      "media\n",
      "nwsppol [2002, 2004, 2006, 2008, 2010]\n",
      "rdpol [2002, 2004, 2006, 2008, 2010]\n",
      "tvpol [2002, 2004, 2006, 2008, 2010, 2012, 2014]\n",
      "\n",
      "\n",
      "internet\n",
      "netuse [2002, 2004, 2006, 2008, 2010]\n",
      "netusoft [2016, 2018, 2020]\n",
      "\n",
      "\n",
      "relig\n",
      "pray [2002, 2004, 2006, 2008, 2010, 2012, 2014, 2016, 2018, 2020]\n",
      "rlgatnd [2002, 2004, 2006, 2008, 2010, 2012, 2014, 2016, 2018, 2020]\n",
      "rlgdgr [2002, 2004, 2006, 2008, 2010, 2012, 2014, 2016, 2018, 2020]\n",
      "\n",
      "\n",
      "social\n",
      "sclact [2002, 2004, 2006, 2008, 2010, 2012, 2014, 2016, 2018, 2020]\n",
      "sclmeet [2002, 2004, 2006, 2008, 2010, 2012, 2014, 2016, 2018, 2020]\n",
      "\n",
      "\n",
      "finstab\n",
      "hincfel [2002, 2004, 2006, 2008, 2010, 2012, 2014, 2016, 2018, 2020]\n",
      "hinctnta [2008, 2010, 2012, 2014, 2016, 2018, 2020]\n",
      "\n",
      "\n",
      "conservatism\n",
      "lrscale [2002, 2004, 2006, 2008, 2010, 2012, 2014, 2016, 2018, 2020]\n",
      "\n",
      "\n",
      "anti_imm\n",
      "imwbcnt [2002, 2004, 2006, 2008, 2010, 2012, 2014, 2016, 2018, 2020]\n",
      "\n",
      "\n",
      "trust\n",
      "trstlgl [2002, 2004, 2006, 2008, 2010, 2012, 2014, 2016, 2018, 2020]\n",
      "trstplc [2002, 2004, 2006, 2008, 2010, 2012, 2014, 2016, 2018, 2020]\n",
      "trstplt [2002, 2004, 2006, 2008, 2010, 2012, 2014, 2016, 2018, 2020]\n",
      "\n",
      "\n"
     ]
    }
   ],
   "source": [
    "def bucket_data_availability(data, var_set):\n",
    "    vars, vars_improve_order, vars_ranges = extract_tuple_components(var_set)\n",
    "    temp = data[data['agea'] != 999][vars + ['essround_yr']]\n",
    "    data = prepare_for_aggregation(temp, vars, vars_improve_order, vars_ranges)\n",
    "\n",
    "    for var in vars:\n",
    "        unique_years = sorted(data.loc[data[var].notna(), 'essround_yr'].unique())\n",
    "        print(var, unique_years)\n",
    "\n",
    "for var_set in var_sets.keys():\n",
    "    print(var_set)\n",
    "    bucket_data_availability(raw_data_subset, var_sets[var_set])\n",
    "    print(\"\\n\")"
   ]
  },
  {
   "cell_type": "code",
   "execution_count": 12,
   "metadata": {},
   "outputs": [],
   "source": [
    "def filter_based_on_bucket(data, vars):\n",
    "\n",
    "    # media: 2010 and before\n",
    "    if 'newsppol' in vars:\n",
    "        return data[data['essround_yr'] <= 2010]\n",
    "    \n",
    "    # finstab: 2008 and onward\n",
    "    if 'hincfel' in vars:\n",
    "        return data[data['essround_yr'] >= 2008]\n",
    "\n",
    "    else:\n",
    "        return data"
   ]
  },
  {
   "cell_type": "markdown",
   "metadata": {},
   "source": [
    "### Intra-bucket correlations"
   ]
  },
  {
   "cell_type": "code",
   "execution_count": 13,
   "metadata": {},
   "outputs": [
    {
     "name": "stdout",
     "output_type": "stream",
     "text": [
      "wellbeing\n",
      "            happy    health   aesfdrk   stflife\n",
      "happy    1.000000  0.357230  0.224275  0.722734\n",
      "health   0.357230  1.000000  0.212410  0.347427\n",
      "aesfdrk  0.224275  0.212410  1.000000  0.228805\n",
      "stflife  0.722734  0.347427  0.228805  1.000000\n",
      "\n",
      "\n",
      "media\n",
      "          nwsppol     rdpol     tvpol\n",
      "nwsppol  1.000000  0.265774  0.334335\n",
      "rdpol    0.265774  1.000000  0.309282\n",
      "tvpol    0.334335  0.309282  1.000000\n",
      "\n",
      "\n",
      "internet\n",
      "          netuse  netusoft\n",
      "netuse       1.0       NaN\n",
      "netusoft     NaN       NaN\n",
      "\n",
      "\n",
      "relig\n",
      "             pray   rlgatnd    rlgdgr\n",
      "pray     1.000000  0.664849  0.690331\n",
      "rlgatnd  0.664849  1.000000  0.626222\n",
      "rlgdgr   0.690331  0.626222  1.000000\n",
      "\n",
      "\n",
      "social\n",
      "           sclact   sclmeet\n",
      "sclact   1.000000  0.388767\n",
      "sclmeet  0.388767  1.000000\n",
      "\n",
      "\n",
      "finstab\n",
      "          hincfel  hinctnta\n",
      "hincfel   1.00000   0.45281\n",
      "hinctnta  0.45281   1.00000\n",
      "\n",
      "\n",
      "conservatism\n",
      "         lrscale\n",
      "lrscale      1.0\n",
      "\n",
      "\n",
      "anti_imm\n",
      "         imwbcnt\n",
      "imwbcnt      1.0\n",
      "\n",
      "\n",
      "trust\n",
      "          trstlgl   trstplc   trstplt\n",
      "trstlgl  1.000000  0.689636  0.612666\n",
      "trstplc  0.689636  1.000000  0.509767\n",
      "trstplt  0.612666  0.509767  1.000000\n",
      "\n",
      "\n"
     ]
    }
   ],
   "source": [
    "def corr_matrix_all_respondents(data, var_set):\n",
    "    vars, vars_improve_order, vars_ranges = extract_tuple_components(var_set)\n",
    "    temp = data[data['agea'] != 999][vars + ['essround_yr', 'age_group']]\n",
    "    data = prepare_for_aggregation(temp, vars, vars_improve_order, vars_ranges)\n",
    "    data = data[data['age_group'] == 'AGGREGATE']\n",
    "    data = data[data['essround_yr'] == 2010]\n",
    "    print(data[vars].corr())\n",
    "\n",
    "for var_set in var_sets.keys():\n",
    "    print(var_set)\n",
    "    corr_matrix_all_respondents(raw_data_subset, var_sets[var_set])\n",
    "    print(\"\\n\")\n"
   ]
  },
  {
   "cell_type": "markdown",
   "metadata": {},
   "source": [
    "# Define Graph Data Functions"
   ]
  },
  {
   "cell_type": "markdown",
   "metadata": {},
   "source": [
    "### FIg 0: Bar Chart Redux"
   ]
  },
  {
   "cell_type": "code",
   "execution_count": 14,
   "metadata": {},
   "outputs": [],
   "source": [
    "def bar_var_yr(data, var_tuples):\n",
    "\n",
    "    # pull current buckets var info\n",
    "    vars, vars_improve_order, vars_ranges = extract_tuple_components(var_tuples)\n",
    "\n",
    "    # some buckets need to have years filtered to ensure variables align\n",
    "    data = filter_based_on_bucket(data, vars)\n",
    "\n",
    "    # subset data to obs not missing agea\n",
    "    temp = data[data['agea'] != 999][vars + ['essround_yr', 'age_group']]\n",
    "    temp = temp[temp['age_group'] == 'AGGREGATE']\n",
    "\n",
    "    # prepare binned variables for aggregation\n",
    "    prepare_for_aggregation(temp, vars, vars_improve_order, vars_ranges)\n",
    "\n",
    "    # average in-group constituent var averages\n",
    "    temp = temp.groupby(['essround_yr'], observed = True)[vars].mean().reset_index()\n",
    "    temp = temp.sort_values(by=['essround_yr'])\n",
    "\n",
    "    # Apply the generation mapping to the 'generation' column\n",
    "    temp.rename(columns={'essround_yr': 'year'}, inplace=True)\n",
    "    temp.update(temp.loc[:, temp.columns.difference(['year', 'generation'])].round(2))\n",
    "    return temp"
   ]
  },
  {
   "cell_type": "markdown",
   "metadata": {},
   "source": [
    "### Fig 1: Bar Chart\n"
   ]
  },
  {
   "cell_type": "code",
   "execution_count": 15,
   "metadata": {},
   "outputs": [],
   "source": [
    "# Mapping dictionary\n",
    "generation_mapping = {\n",
    "    '<25': 1,\n",
    "    '25-39': 2,\n",
    "    '40-59': 3,\n",
    "    \"60+\": 4\n",
    "}\n",
    "\n",
    "def bar_age_yr(data, var_tuples):\n",
    "\n",
    "    # pull current buckets var info\n",
    "    vars, vars_improve_order, vars_ranges = extract_tuple_components(var_tuples)\n",
    "\n",
    "    # some buckets need to have years filtered to ensure variables align\n",
    "    data = filter_based_on_bucket(data, vars)\n",
    "\n",
    "    # subset data to obs not missing agea\n",
    "    temp = data[data['agea'] != 999][vars + ['essround_yr', 'age_group']]\n",
    "\n",
    "    # prepare binned variables for aggregation\n",
    "    prepare_for_aggregation(temp, vars, vars_improve_order, vars_ranges)\n",
    "\n",
    "    # average in-group constituent var averages\n",
    "    temp = temp.groupby(['essround_yr', 'age_group'], observed = True)[vars].mean().reset_index()\n",
    "    temp['average'] = temp[vars].mean(axis=1)\n",
    "    temp = temp.sort_values(by=['age_group', 'essround_yr'])\n",
    "\n",
    "    # Apply the generation mapping to the 'generation' column\n",
    "    temp['age_group'] = temp['age_group'].replace(generation_mapping)\n",
    "    temp.rename(columns={'essround_yr': 'year', 'age_group': 'generation'}, inplace=True)\n",
    "    temp.update(temp.loc[:, temp.columns.difference(['year', 'generation'])].round(2))\n",
    "    return temp[['year', 'generation', 'average']].round(2)"
   ]
  },
  {
   "cell_type": "markdown",
   "metadata": {},
   "source": [
    "### Fig 2: Choropleth"
   ]
  },
  {
   "cell_type": "code",
   "execution_count": 16,
   "metadata": {},
   "outputs": [],
   "source": [
    "def get_choropleth_color(m_minus_w):\n",
    "    if -1.4 <= m_minus_w < -1.2: return 14\n",
    "    elif -1.2 <= m_minus_w < -1.0: return 13\n",
    "    elif -1.0 <= m_minus_w < -0.8: return 12\n",
    "    elif -0.8 <= m_minus_w < -0.6: return 11\n",
    "    elif -0.6 <= m_minus_w < -0.4: return 10\n",
    "    elif -0.4 <= m_minus_w < -0.2: return 9\n",
    "    elif -0.2 <= m_minus_w < 0.0: return 8\n",
    "    elif 0.0 <= m_minus_w < 0.2: return 7\n",
    "    elif 0.2 <= m_minus_w < 0.4: return 6\n",
    "    elif 0.4 <= m_minus_w < 0.6: return 5\n",
    "    elif 0.6 <= m_minus_w < 0.8: return 4\n",
    "    elif 0.8 <= m_minus_w < 1.0: return 3\n",
    "    elif 1.0 <= m_minus_w < 1.2: return 2\n",
    "    elif 1.2 <= m_minus_w <= 1.4: return 1\n",
    "    else: return 0\n",
    "\n",
    "def choropleth_gend_cntry_age_yr(data, var_tuples):\n",
    "\n",
    "    # pull current buckets var info\n",
    "    vars, vars_improve_order, vars_ranges = extract_tuple_components(var_tuples)\n",
    "\n",
    "    # some buckets need to have years filtered to ensure variables align\n",
    "    data = filter_based_on_bucket(data, vars)\n",
    "    \n",
    "    # subset data to obs not missing agea or gender\n",
    "    temp = data[(data['agea'] != 999) & (data['gndr'] != 9)][vars + ['cntry', 'gndr', 'essround_yr', 'age_group']]\n",
    "\n",
    "    # prepare binned variables for aggregation\n",
    "    prepare_for_aggregation(temp, vars, vars_improve_order, vars_ranges)\n",
    "\n",
    "    # average in-group constituent var averages, take differences\n",
    "    temp = temp.groupby(['essround_yr', 'age_group', 'gndr', 'cntry'], observed = True)[vars].mean().reset_index()\n",
    "    temp['average'] = temp[vars].mean(axis=1)\n",
    "    temp = temp.pivot_table(index=['cntry', 'age_group', 'essround_yr'],\n",
    "                    columns='gndr',\n",
    "                    values= vars + ['average'],\n",
    "                    aggfunc='mean',\n",
    "                    observed = True)\n",
    "    temp.columns = [f\"{col[0]}_{col[1]}\" for col in temp.columns]\n",
    "    temp = temp.reset_index()\n",
    "    temp['average_men'] = temp['average_1']\n",
    "    temp['average_women'] = temp['average_2']\n",
    "    temp['m_minus_w'] = temp['average_1'] - temp['average_2']\n",
    "    temp['color'] = temp['m_minus_w'].apply(get_choropleth_color)\n",
    "\n",
    "    temp = temp.sort_values(by=['cntry', 'age_group', 'essround_yr'])\n",
    "    \n",
    "    temp['country'] = temp['cntry'].map(cc_dict)\n",
    "    return temp[['cntry', 'country', 'essround_yr', 'age_group', 'm_minus_w', 'color', 'average_men', 'average_women']].round(2)"
   ]
  },
  {
   "cell_type": "markdown",
   "metadata": {},
   "source": [
    "### Fig 3: Ordinal Gender Country Year"
   ]
  },
  {
   "cell_type": "code",
   "execution_count": 17,
   "metadata": {},
   "outputs": [],
   "source": [
    "def ordinal_gend_cntry_yr(data, var_tuples):\n",
    "\n",
    "    # pull current buckets var info\n",
    "    vars, vars_improve_order, vars_ranges = extract_tuple_components(var_tuples)\n",
    "\n",
    "    # some buckets need to have years filtered to ensure variables align\n",
    "    data = filter_based_on_bucket(data, vars)\n",
    "    \n",
    "    # subset data to obs not missing agea or gender, only keep one instance per person (recall that each person is represented twice: once in their age group, once in 'aggregate' age group)\n",
    "    temp = data[data['age_group'] == 'AGGREGATE']\n",
    "    temp = temp[(temp['gndr'] != 9)][vars + ['cntry', 'gndr', 'essround_yr']]\n",
    "\n",
    "    # double dataset, give duplicate instance country code \"All\" (to populate average lines by year)\n",
    "    temp_all = temp.copy()\n",
    "    temp_all['cntry'] = \"AGGREGATE\"\n",
    "    temp = pd.concat([temp, temp_all])\n",
    "\n",
    "    # prepare binned variables for aggregation\n",
    "    prepare_for_aggregation(temp, vars, vars_improve_order, vars_ranges)\n",
    "\n",
    "    # average in-group constituent var averages, take differences\n",
    "    temp = temp.groupby(['essround_yr', 'gndr', 'cntry'], observed = True)[vars].mean().reset_index()\n",
    "    temp['average'] = temp[vars].mean(axis=1)\n",
    "    temp = temp.pivot_table(index=['cntry', 'essround_yr'],\n",
    "                    columns='gndr',\n",
    "                    values= vars + ['average'],\n",
    "                    aggfunc='mean',\n",
    "                    observed = True)\n",
    "    temp.columns = [f\"{col[0]}_{col[1]}\" for col in temp.columns]\n",
    "    temp = temp.reset_index()\n",
    "\n",
    "    # create index for hover-over-country history. for each country, value for <25 in earliest year is 100 (for both women and men!)\n",
    "    temp = temp.sort_values(by=['cntry', 'essround_yr'])\n",
    "    temp['average_men'] = temp['average_1']\n",
    "    temp['average_women'] = temp['average_2']\n",
    "    temp['country_full'] = temp['cntry'].map(cc_dict)\n",
    "\n",
    "    temp.update(temp.loc[:, temp.columns.difference(['country','essround_yr', 'generation'])].round(2))\n",
    "    temp.rename(columns={'essround_yr': 'year', 'cntry': 'country'}, inplace=True)\n",
    "\n",
    "    return temp[['country', 'country_full', 'year', 'average_men', 'average_women']].round(2)\n",
    "\n"
   ]
  },
  {
   "cell_type": "markdown",
   "metadata": {},
   "source": [
    "# Create Data for All Buckets"
   ]
  },
  {
   "cell_type": "code",
   "execution_count": 23,
   "metadata": {},
   "outputs": [],
   "source": [
    "alt_bar_dataframes = {}\n",
    "bar_chart_dataframes = {}\n",
    "choropleth_dataframes = {}\n",
    "ordinal_cntry_list_dataframes = {}\n",
    "for var_set in var_sets.keys():\n",
    "    alt_bar_dataframes[var_set] = bar_var_yr(raw_data_subset, var_sets[var_set])\n",
    "    alt_bar_dataframes[var_set] = alt_bar_dataframes[var_set].rename(columns={col: var_set + \"_\" + col for col in alt_bar_dataframes[var_set].columns if col != 'year'})\n",
    "    bar_chart_dataframes[var_set] = bar_age_yr(raw_data_subset, var_sets[var_set]).rename(columns={'average':var_set})\n",
    "    choropleth_dataframes[var_set] = choropleth_gend_cntry_age_yr(raw_data_subset, var_sets[var_set]).rename(columns={'m_minus_w':var_set + '_m_minus_w','color':var_set + '_color', 'average_men':var_set + '_men','average_women':var_set + '_woman'})\n",
    "    ordinal_cntry_list_dataframes[var_set] = ordinal_gend_cntry_yr(raw_data_subset, var_sets[var_set]).rename(columns={'average_men':var_set + '_men','average_women':var_set + '_woman'})\n",
    "# data for pop-up text would be in choropleth function output"
   ]
  },
  {
   "cell_type": "code",
   "execution_count": 27,
   "metadata": {},
   "outputs": [],
   "source": [
    "from functools import reduce\n",
    "\n",
    "# Figure 0: Alt Bar Chart data\n",
    "f0_data = reduce(lambda left, right: pd.merge(left, right, on=['year'], how='outer'), alt_bar_dataframes.values())\n",
    "f0_data.to_csv('figure_1_bar_alt.csv', index=False)\n",
    "\n",
    "# Figure 1: Bar Chart data\n",
    "f1_data = reduce(lambda left, right: pd.merge(left, right, on=['year', 'generation'], how='outer'), bar_chart_dataframes.values())\n",
    "f1_data.to_csv('figure_1_bar.csv', index=False)\n",
    "\n",
    "# Figure 2: Choropleth data\n",
    "f2_data = reduce(lambda left, right: pd.merge(left, right, on=['essround_yr', 'cntry', 'country', 'age_group'], how='outer'), choropleth_dataframes.values())\n",
    "f2_data.to_csv('figure_2_choropleth.csv', index=False) \n",
    "\n",
    "# Figure 3: Ordinal Country List data\n",
    "f3_data = reduce(lambda left, right: pd.merge(left, right, on=['year', 'country', 'country_full'], how='outer'), ordinal_cntry_list_dataframes.values())\n",
    "f3_data.to_csv('figure_3_ordinal.csv', index=False)"
   ]
  },
  {
   "cell_type": "markdown",
   "metadata": {},
   "source": [
    "# Explore Data - M minus W difference magnitudes"
   ]
  },
  {
   "cell_type": "code",
   "execution_count": 19,
   "metadata": {},
   "outputs": [
    {
     "data": {
      "image/png": "[encoded data removed]",
      "text/plain": [
       "<Figure size 640x480 with 1 Axes>"
      ]
     },
     "metadata": {},
     "output_type": "display_data"
    },
    {
     "data": {
      "image/png": "[encoded data removed]",
      "text/plain": [
       "<Figure size 640x480 with 1 Axes>"
      ]
     },
     "metadata": {},
     "output_type": "display_data"
    },
    {
     "data": {
      "image/png": "[encoded data removed]",
      "text/plain": [
       "<Figure size 640x480 with 1 Axes>"
      ]
     },
     "metadata": {},
     "output_type": "display_data"
    },
    {
     "data": {
      "image/png": "[encoded data removed]",
      "text/plain": [
       "<Figure size 640x480 with 1 Axes>"
      ]
     },
     "metadata": {},
     "output_type": "display_data"
    },
    {
     "data": {
      "image/png": "[encoded data removed]",
      "text/plain": [
       "<Figure size 640x480 with 1 Axes>"
      ]
     },
     "metadata": {},
     "output_type": "display_data"
    },
    {
     "data": {
      "image/png": "[encoded data removed]",
      "text/plain": [
       "<Figure size 640x480 with 1 Axes>"
      ]
     },
     "metadata": {},
     "output_type": "display_data"
    },
    {
     "data": {
      "image/png": "[encoded data removed]",
      "text/plain": [
       "<Figure size 640x480 with 1 Axes>"
      ]
     },
     "metadata": {},
     "output_type": "display_data"
    },
    {
     "data": {
      "image/png": "[encoded data removed]",
      "text/plain": [
       "<Figure size 640x480 with 1 Axes>"
      ]
     },
     "metadata": {},
     "output_type": "display_data"
    },
    {
     "data": {
      "image/png": "[encoded data removed]",
      "text/plain": [
       "<Figure size 640x480 with 1 Axes>"
      ]
     },
     "metadata": {},
     "output_type": "display_data"
    }
   ],
   "source": [
    "import matplotlib.pyplot as plt\n",
    "for var_set in var_sets.keys():\n",
    "    plt.hist(f2_data[var_set + '_m_minus_w'], bins=10, edgecolor='black')\n",
    "    plt.title('Histogram of ' + var_set + '_m_minus_w')\n",
    "    plt.show()"
   ]
  },
  {
   "cell_type": "code",
   "execution_count": 20,
   "metadata": {},
   "outputs": [
    {
     "name": "stdout",
     "output_type": "stream",
     "text": [
      "-0.27 0.75\n",
      "-0.22 0.7\n",
      "-0.64 1.32\n",
      "-1.33 0.92\n",
      "-0.39 0.8\n",
      "-0.35 0.84\n",
      "-0.6 0.88\n",
      "-0.65 0.68\n",
      "-0.53 0.39\n"
     ]
    }
   ],
   "source": [
    "import matplotlib.pyplot as plt\n",
    "for var_set in var_sets.keys():\n",
    "    print(f2_data[var_set + '_m_minus_w'].agg('min'), f2_data[var_set + '_m_minus_w'].agg('max'))"
   ]
  },
  {
   "cell_type": "code",
   "execution_count": null,
   "metadata": {},
   "outputs": [],
   "source": []
  }
 ],
 "metadata": {
  "kernelspec": {
   "display_name": "Python 3 (ipykernel)",
   "language": "python",
   "name": "python3"
  },
  "language_info": {
   "codemirror_mode": {
    "name": "ipython",
    "version": 3
   },
   "file_extension": ".py",
   "mimetype": "text/x-python",
   "name": "python",
   "nbconvert_exporter": "python",
   "pygments_lexer": "ipython3",
   "version": "3.10.12"
  },
  "varInspector": {
   "cols": {
    "lenName": 16,
    "lenType": 16,
    "lenVar": 40
   },
   "kernels_config": {
    "python": {
     "delete_cmd_postfix": "",
     "delete_cmd_prefix": "del ",
     "library": "var_list.py",
     "varRefreshCmd": "print(var_dic_list())"
    },
    "r": {
     "delete_cmd_postfix": ") ",
     "delete_cmd_prefix": "rm(",
     "library": "var_list.r",
     "varRefreshCmd": "cat(var_dic_list()) "
    }
   },
   "types_to_exclude": [
    "module",
    "function",
    "builtin_function_or_method",
    "instance",
    "_Feature"
   ],
   "window_display": false
  }
 },
 "nbformat": 4,
 "nbformat_minor": 4
}
